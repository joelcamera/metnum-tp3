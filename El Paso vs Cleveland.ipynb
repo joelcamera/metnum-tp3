{
 "cells": [
  {
   "cell_type": "code",
   "execution_count": 1,
   "metadata": {
    "collapsed": true
   },
   "outputs": [],
   "source": [
    "%matplotlib inline\n",
    "import pandas as pd\n",
    "import matplotlib.pyplot as plt\n",
    "import seaborn as sns\n",
    "import numpy as np\n",
    "from scipy import stats\n",
    "from datetime import datetime\n",
    "from math import *\n",
    "from util import *\n",
    "from dateutil.relativedelta import relativedelta # $ pip install python-dateutil\n",
    "\n",
    "palette = sns.color_palette('Paired', 12)\n",
    "plt.rcParams[\"figure.figsize\"] = (13, 6)"
   ]
  },
  {
   "cell_type": "code",
   "execution_count": 2,
   "metadata": {
    "scrolled": false
   },
   "outputs": [
    {
     "data": {
      "text/html": [
       "<div>\n",
       "<style>\n",
       "    .dataframe thead tr:only-child th {\n",
       "        text-align: right;\n",
       "    }\n",
       "\n",
       "    .dataframe thead th {\n",
       "        text-align: left;\n",
       "    }\n",
       "\n",
       "    .dataframe tbody tr th {\n",
       "        vertical-align: top;\n",
       "    }\n",
       "</style>\n",
       "<table border=\"1\" class=\"dataframe\">\n",
       "  <thead>\n",
       "    <tr style=\"text-align: right;\">\n",
       "      <th>city</th>\n",
       "      <th>Albuquerque</th>\n",
       "      <th>Anaheim</th>\n",
       "      <th>Bakersfield</th>\n",
       "      <th>Chandler</th>\n",
       "      <th>Chula Vista</th>\n",
       "      <th>El Paso</th>\n",
       "      <th>Fresno</th>\n",
       "      <th>Glendale</th>\n",
       "      <th>Henderson</th>\n",
       "      <th>Las Vegas</th>\n",
       "      <th>...</th>\n",
       "      <th>Riverside</th>\n",
       "      <th>Sacramento</th>\n",
       "      <th>San Diego</th>\n",
       "      <th>San Francisco</th>\n",
       "      <th>San Jose</th>\n",
       "      <th>Santa Ana</th>\n",
       "      <th>Scottsdale</th>\n",
       "      <th>Seattle</th>\n",
       "      <th>Stockton</th>\n",
       "      <th>Tucson</th>\n",
       "    </tr>\n",
       "    <tr>\n",
       "      <th>year</th>\n",
       "      <th></th>\n",
       "      <th></th>\n",
       "      <th></th>\n",
       "      <th></th>\n",
       "      <th></th>\n",
       "      <th></th>\n",
       "      <th></th>\n",
       "      <th></th>\n",
       "      <th></th>\n",
       "      <th></th>\n",
       "      <th></th>\n",
       "      <th></th>\n",
       "      <th></th>\n",
       "      <th></th>\n",
       "      <th></th>\n",
       "      <th></th>\n",
       "      <th></th>\n",
       "      <th></th>\n",
       "      <th></th>\n",
       "      <th></th>\n",
       "      <th></th>\n",
       "    </tr>\n",
       "  </thead>\n",
       "  <tbody>\n",
       "    <tr>\n",
       "      <th>1900</th>\n",
       "      <td>11.599333</td>\n",
       "      <td>16.497833</td>\n",
       "      <td>15.719750</td>\n",
       "      <td>21.345833</td>\n",
       "      <td>16.497833</td>\n",
       "      <td>15.984167</td>\n",
       "      <td>15.719750</td>\n",
       "      <td>18.712417</td>\n",
       "      <td>17.835667</td>\n",
       "      <td>17.835667</td>\n",
       "      <td>...</td>\n",
       "      <td>17.227083</td>\n",
       "      <td>14.642000</td>\n",
       "      <td>16.497833</td>\n",
       "      <td>14.642000</td>\n",
       "      <td>14.642000</td>\n",
       "      <td>16.497833</td>\n",
       "      <td>21.345833</td>\n",
       "      <td>7.952583</td>\n",
       "      <td>14.642000</td>\n",
       "      <td>18.093167</td>\n",
       "    </tr>\n",
       "    <tr>\n",
       "      <th>1901</th>\n",
       "      <td>11.410333</td>\n",
       "      <td>16.029833</td>\n",
       "      <td>15.777083</td>\n",
       "      <td>21.080750</td>\n",
       "      <td>16.029833</td>\n",
       "      <td>15.988000</td>\n",
       "      <td>15.777083</td>\n",
       "      <td>18.399667</td>\n",
       "      <td>17.624583</td>\n",
       "      <td>17.624583</td>\n",
       "      <td>...</td>\n",
       "      <td>17.107250</td>\n",
       "      <td>14.339500</td>\n",
       "      <td>16.029833</td>\n",
       "      <td>14.339500</td>\n",
       "      <td>14.339500</td>\n",
       "      <td>16.029833</td>\n",
       "      <td>21.080750</td>\n",
       "      <td>7.267000</td>\n",
       "      <td>14.339500</td>\n",
       "      <td>17.718917</td>\n",
       "    </tr>\n",
       "    <tr>\n",
       "      <th>1902</th>\n",
       "      <td>11.120250</td>\n",
       "      <td>15.315167</td>\n",
       "      <td>15.110333</td>\n",
       "      <td>20.970917</td>\n",
       "      <td>15.315167</td>\n",
       "      <td>16.041500</td>\n",
       "      <td>15.110333</td>\n",
       "      <td>18.023583</td>\n",
       "      <td>17.040083</td>\n",
       "      <td>17.040083</td>\n",
       "      <td>...</td>\n",
       "      <td>16.425500</td>\n",
       "      <td>14.066917</td>\n",
       "      <td>15.315167</td>\n",
       "      <td>14.066917</td>\n",
       "      <td>14.066917</td>\n",
       "      <td>15.315167</td>\n",
       "      <td>20.970917</td>\n",
       "      <td>7.334667</td>\n",
       "      <td>14.066917</td>\n",
       "      <td>17.732750</td>\n",
       "    </tr>\n",
       "    <tr>\n",
       "      <th>1903</th>\n",
       "      <td>10.485750</td>\n",
       "      <td>15.742000</td>\n",
       "      <td>15.324333</td>\n",
       "      <td>20.841083</td>\n",
       "      <td>15.742000</td>\n",
       "      <td>15.171083</td>\n",
       "      <td>15.324333</td>\n",
       "      <td>18.163708</td>\n",
       "      <td>17.131750</td>\n",
       "      <td>17.131750</td>\n",
       "      <td>...</td>\n",
       "      <td>16.682500</td>\n",
       "      <td>14.124000</td>\n",
       "      <td>15.742000</td>\n",
       "      <td>14.124000</td>\n",
       "      <td>14.124000</td>\n",
       "      <td>15.742000</td>\n",
       "      <td>20.841083</td>\n",
       "      <td>6.979250</td>\n",
       "      <td>14.124000</td>\n",
       "      <td>17.496250</td>\n",
       "    </tr>\n",
       "    <tr>\n",
       "      <th>1904</th>\n",
       "      <td>11.095667</td>\n",
       "      <td>16.380250</td>\n",
       "      <td>16.039500</td>\n",
       "      <td>21.287750</td>\n",
       "      <td>16.380250</td>\n",
       "      <td>15.670583</td>\n",
       "      <td>16.039500</td>\n",
       "      <td>18.762292</td>\n",
       "      <td>17.707500</td>\n",
       "      <td>17.707500</td>\n",
       "      <td>...</td>\n",
       "      <td>17.431000</td>\n",
       "      <td>14.502083</td>\n",
       "      <td>16.380250</td>\n",
       "      <td>14.502083</td>\n",
       "      <td>14.502083</td>\n",
       "      <td>16.380250</td>\n",
       "      <td>21.287750</td>\n",
       "      <td>7.702667</td>\n",
       "      <td>14.502083</td>\n",
       "      <td>17.704000</td>\n",
       "    </tr>\n",
       "  </tbody>\n",
       "</table>\n",
       "<p>5 rows × 28 columns</p>\n",
       "</div>"
      ],
      "text/plain": [
       "city  Albuquerque    Anaheim  Bakersfield   Chandler  Chula Vista    El Paso  \\\n",
       "year                                                                           \n",
       "1900    11.599333  16.497833    15.719750  21.345833    16.497833  15.984167   \n",
       "1901    11.410333  16.029833    15.777083  21.080750    16.029833  15.988000   \n",
       "1902    11.120250  15.315167    15.110333  20.970917    15.315167  16.041500   \n",
       "1903    10.485750  15.742000    15.324333  20.841083    15.742000  15.171083   \n",
       "1904    11.095667  16.380250    16.039500  21.287750    16.380250  15.670583   \n",
       "\n",
       "city     Fresno   Glendale  Henderson  Las Vegas    ...      Riverside  \\\n",
       "year                                                ...                  \n",
       "1900  15.719750  18.712417  17.835667  17.835667    ...      17.227083   \n",
       "1901  15.777083  18.399667  17.624583  17.624583    ...      17.107250   \n",
       "1902  15.110333  18.023583  17.040083  17.040083    ...      16.425500   \n",
       "1903  15.324333  18.163708  17.131750  17.131750    ...      16.682500   \n",
       "1904  16.039500  18.762292  17.707500  17.707500    ...      17.431000   \n",
       "\n",
       "city  Sacramento  San Diego  San Francisco   San Jose  Santa Ana  Scottsdale  \\\n",
       "year                                                                           \n",
       "1900   14.642000  16.497833      14.642000  14.642000  16.497833   21.345833   \n",
       "1901   14.339500  16.029833      14.339500  14.339500  16.029833   21.080750   \n",
       "1902   14.066917  15.315167      14.066917  14.066917  15.315167   20.970917   \n",
       "1903   14.124000  15.742000      14.124000  14.124000  15.742000   20.841083   \n",
       "1904   14.502083  16.380250      14.502083  14.502083  16.380250   21.287750   \n",
       "\n",
       "city   Seattle   Stockton     Tucson  \n",
       "year                                  \n",
       "1900  7.952583  14.642000  18.093167  \n",
       "1901  7.267000  14.339500  17.718917  \n",
       "1902  7.334667  14.066917  17.732750  \n",
       "1903  6.979250  14.124000  17.496250  \n",
       "1904  7.702667  14.502083  17.704000  \n",
       "\n",
       "[5 rows x 28 columns]"
      ]
     },
     "execution_count": 2,
     "metadata": {},
     "output_type": "execute_result"
    }
   ],
   "source": [
    "df_west = pd.read_csv('data/CitiesWestChunk.csv', parse_dates=[0])\n",
    "df_west['year'] = df_west['date'].apply(lambda d: d.year)\n",
    "df_east = pd.read_csv('data/CitiesEastChunk.csv', parse_dates=[0])\n",
    "df_east['year'] = df_east['date'].apply(lambda d: d.year)\n",
    "\n",
    "cities = df_east['city'].unique()\n",
    "\n",
    "date_from = 1900\n",
    "date_to = 2010\n",
    "\n",
    "el_paso = df_west.groupby(['year', 'city'], as_index=False).mean().query('city == \"El Paso\" & year >= @date_from')\n",
    "cleveland = df_east.groupby(['year', 'city'], as_index=False).mean().query('city == \"Cleveland\" & year >= @date_from')\n",
    "\n",
    "# compute east\n",
    "df_east = df_east.query('year <= @date_to').query('year >= @date_from').groupby(['year', 'city'], as_index=False).mean()\n",
    "df_east = df_east.pivot(index='year', columns='city')['avg']\n",
    "df_east.head()\n",
    "\n",
    "# compute west\n",
    "df_west = df_west.query('year <= @date_to').query('year >= @date_from').groupby(['year', 'city'], as_index=False).mean()\n",
    "df_west = df_west.pivot(index='year', columns='city')['avg']\n",
    "df_west.head()"
   ]
  },
  {
   "cell_type": "markdown",
   "metadata": {},
   "source": [
    "### Mayores amplitudes"
   ]
  },
  {
   "cell_type": "code",
   "execution_count": 3,
   "metadata": {},
   "outputs": [
    {
     "name": "stdout",
     "output_type": "stream",
     "text": [
      "Top 5 amplitud West\n",
      "city\n",
      "Glendale       30.363\n",
      "Albuquerque    30.761\n",
      "Paradise       33.867\n",
      "Las Vegas      33.867\n",
      "Henderson      33.867\n",
      "Name: diff, dtype: float64\n",
      "******************************\n",
      "Top 5 amplitud East\n",
      "city\n",
      "Detroit       39.951\n",
      "Cleveland     40.013\n",
      "Pittsburgh    40.013\n",
      "Akron         40.013\n",
      "Toledo        40.850\n",
      "Name: diff, dtype: float64\n"
     ]
    }
   ],
   "source": [
    "g_w = pd.read_csv('data/CitiesWestChunk.csv').groupby('city').aggregate(['min', 'max'])\n",
    "g_w['diff'] = g_w['avg']['max'] - g_w['avg']['min']\n",
    "print('Top 5 amplitud West')\n",
    "print(g_w.sort_values('diff').iloc[-5:]['diff'])\n",
    "west_cities_top_amp = g_w.index.values[-5:]\n",
    "\n",
    "print('*' * 30)\n",
    "\n",
    "g_e = pd.read_csv('data/CitiesEastChunk.csv').groupby('city').aggregate(['min', 'max'])\n",
    "g_e['diff'] = g_e['avg']['max'] - g_e['avg']['min']\n",
    "print('Top 5 amplitud East')\n",
    "print(g_e.sort_values('diff').iloc[-5:]['diff'])\n",
    "east_cities_top_amp = g_e.index.values[-5:]"
   ]
  },
  {
   "cell_type": "markdown",
   "metadata": {},
   "source": [
    "### Altitud < 100"
   ]
  },
  {
   "cell_type": "code",
   "execution_count": 4,
   "metadata": {},
   "outputs": [
    {
     "name": "stdout",
     "output_type": "stream",
     "text": [
      "Menos de 100m West\n",
      "city\n",
      "Anaheim          40\n",
      "Chula Vista      23\n",
      "Fresno           91\n",
      "Long Beach        1\n",
      "Modesto          12\n",
      "Oakland           0\n",
      "Phoenix           0\n",
      "Portland         61\n",
      "Sacramento        5\n",
      "San Diego        26\n",
      "San Francisco    60\n",
      "San Jose         24\n",
      "Santa Ana        30\n",
      "Seattle          60\n",
      "Stockton          4\n",
      "Name: altitude, dtype: int64\n",
      "******************************\n",
      "Menos de 100m East\n",
      "city\n",
      "Baltimore            2\n",
      "Boston              11\n",
      "Hialeah              2\n",
      "Jacksonville         7\n",
      "Jersey City         14\n",
      "Miami                2\n",
      "Newark              16\n",
      "Norfolk              3\n",
      "Orlando             34\n",
      "Philadelphia         8\n",
      "Raleigh             91\n",
      "Saint Petersburg    14\n",
      "Tampa                1\n",
      "Virginia Beach       3\n",
      "Washington          11\n",
      "Name: altitude, dtype: int64\n"
     ]
    }
   ],
   "source": [
    "g_w = pd.read_csv('data/CitiesWestChunk.csv').groupby('city').first()\n",
    "g_w = g_w.query('altitude < 100')\n",
    "print('Menos de 100m West')\n",
    "print(g_w['altitude'])\n",
    "west_cities_less_100 = g_w.index.values\n",
    "\n",
    "print('*' * 30)\n",
    "\n",
    "g_e = pd.read_csv('data/CitiesEastChunk.csv').groupby('city').first()\n",
    "g_e = g_e.query('altitude < 100')\n",
    "print('Menos de 100m East')\n",
    "print(g_e['altitude'])\n",
    "east_cities_less_100 = g_e.index.values"
   ]
  },
  {
   "cell_type": "markdown",
   "metadata": {},
   "source": [
    "# El paso"
   ]
  },
  {
   "cell_type": "markdown",
   "metadata": {},
   "source": [
    "### Todas"
   ]
  },
  {
   "cell_type": "code",
   "execution_count": 5,
   "metadata": {
    "collapsed": true
   },
   "outputs": [],
   "source": [
    "nameCols = ['avg ' + c for c in cities]\n",
    "\n",
    "total_el_paso = []\n",
    "for chunk in range(1920, 2005):\n",
    "    hasta = chunk + 5\n",
    "    df_tr = df_east.query('year < @chunk')\n",
    "    df_tt = df_east.query('year >= @chunk & year < @hasta')\n",
    "\n",
    "    xs = df_tr.as_matrix()\n",
    "    nc = len(nameCols)\n",
    "\n",
    "    f = cml(lambda x: [1] + [x[i] for i in range(nc)], xs, el_paso.query('year < @chunk')['avg'])\n",
    "    results_tr = list(map(f, df_tr.as_matrix()))\n",
    "    results_tt = list(map(f, df_tt.as_matrix()))\n",
    "\n",
    "    err = ecm(results_tt, el_paso.query('year >= @chunk & year < @hasta')['avg'])\n",
    "    total_el_paso.append(err)"
   ]
  },
  {
   "cell_type": "markdown",
   "metadata": {},
   "source": [
    "### Menos de 100m"
   ]
  },
  {
   "cell_type": "code",
   "execution_count": 6,
   "metadata": {
    "collapsed": true,
    "scrolled": false
   },
   "outputs": [],
   "source": [
    "nameCols = ['avg ' + c for c in east_cities_less_100]\n",
    "df_east_100 = df_east[east_cities_less_100]\n",
    "\n",
    "total_el_paso_100 = []\n",
    "for chunk in range(1920, 2005):\n",
    "    hasta = chunk + 5\n",
    "    df_tr = df_east_100.query('year < @chunk')\n",
    "    df_tt = df_east_100.query('year >= @chunk & year < @hasta')\n",
    "\n",
    "    xs = df_tr.as_matrix()\n",
    "    nc = len(nameCols)\n",
    "\n",
    "    f = cml(lambda x: [1] + [x[i] for i in range(nc)], xs, el_paso.query('year < @chunk')['avg'])\n",
    "    results_tr = list(map(f, df_tr.as_matrix()))\n",
    "    results_tt = list(map(f, df_tt.as_matrix()))\n",
    "\n",
    "    err = ecm(results_tt, el_paso.query('year >= @chunk & year < @hasta')['avg'])\n",
    "    total_el_paso_100.append(err)"
   ]
  },
  {
   "cell_type": "markdown",
   "metadata": {},
   "source": [
    "### Amplitud Top 5"
   ]
  },
  {
   "cell_type": "code",
   "execution_count": 7,
   "metadata": {
    "collapsed": true,
    "scrolled": false
   },
   "outputs": [],
   "source": [
    "nameCols = ['avg ' + c for c in east_cities_top_amp]\n",
    "df_east_top = df_east[east_cities_top_amp]\n",
    "\n",
    "total_el_paso_top = []\n",
    "for chunk in range(1920, 2005):\n",
    "    hasta = chunk + 5\n",
    "    df_tr = df_east_top.query('year < @chunk')\n",
    "    df_tt = df_east_top.query('year >= @chunk & year < @hasta')\n",
    "\n",
    "    xs = df_tr.as_matrix()\n",
    "    nc = len(nameCols)\n",
    "\n",
    "    f = cml(lambda x: [1] + [x[i] for i in range(nc)], xs, el_paso.query('year < @chunk')['avg'])\n",
    "    results_tr = list(map(f, df_tr.as_matrix()))\n",
    "    results_tt = list(map(f, df_tt.as_matrix()))\n",
    "\n",
    "    err = ecm(results_tt, el_paso.query('year >= @chunk & year < @hasta')['avg'])\n",
    "    total_el_paso_top.append(err)"
   ]
  },
  {
   "cell_type": "code",
   "execution_count": 8,
   "metadata": {
    "scrolled": false
   },
   "outputs": [
    {
     "name": "stdout",
     "output_type": "stream",
     "text": [
      "                     ECM       max       min\n",
      "Todas           0.436834  2.321951  0.073482\n",
      "Menos 100m      0.308172  0.800785  0.034849\n",
      "Top 5 amplitud  0.273082  0.723342  0.033659\n"
     ]
    },
    {
     "data": {
      "text/plain": [
       "<seaborn.axisgrid.FacetGrid at 0x7f699f973da0>"
      ]
     },
     "execution_count": 8,
     "metadata": {},
     "output_type": "execute_result"
    },
    {
     "data": {
      "image/png": "[encoded data removed]",
      "text/plain": [
       "<matplotlib.figure.Figure at 0x7f699f196470>"
      ]
     },
     "metadata": {},
     "output_type": "display_data"
    }
   ],
   "source": [
    "print(pd.DataFrame(data=[\n",
    "    [sum(total_el_paso)/len(total_el_paso), max(total_el_paso), min(total_el_paso)],\n",
    "    [sum(total_el_paso_100)/len(total_el_paso_100), max(total_el_paso_100), min(total_el_paso_100)],\n",
    "    [sum(total_el_paso_top)/len(total_el_paso_top), max(total_el_paso_top), min(total_el_paso_top)],\n",
    "    ], columns=['ECM', 'max', 'min'], index=['Todas', 'Menos 100m', 'Top 5 amplitud']))\n",
    "\n",
    "#plt.plot(range(1920, 2005), total_el_paso, label='ECM Oeste vs El Paso')\n",
    "#plt.plot(range(1920, 2005), total_el_paso_100, label='ECM Oeste < 100m vs El Paso')\n",
    "#plt.plot(range(1920, 2005), total_el_paso_top, label='ECM Top 5 Amplitud Oeste vs El Paso')\n",
    "#plt.legend()\n",
    "lolz = pd.DataFrame([total_el_paso, total_el_paso_100, total_el_paso_top], index=['Todas', '100', 'Top']).transpose()\n",
    "x = 1\n",
    "def kaka(data, color):\n",
    "    global x\n",
    "    sns.distplot(a=data['value'], color=palette[x])\n",
    "    x += 2\n",
    "sns.FacetGrid(data=pd.melt(lolz), col='variable').map_dataframe(kaka) "
   ]
  },
  {
   "cell_type": "markdown",
   "metadata": {},
   "source": [
    "# Cleveland"
   ]
  },
  {
   "cell_type": "markdown",
   "metadata": {},
   "source": [
    "### Todas"
   ]
  },
  {
   "cell_type": "code",
   "execution_count": 9,
   "metadata": {
    "collapsed": true
   },
   "outputs": [],
   "source": [
    "nameCols = ['avg ' + c for c in cities]\n",
    "\n",
    "total_cleveland = []\n",
    "for chunk in range(1920, 2005):\n",
    "    hasta = chunk + 5\n",
    "    df_tr = df_west.query('year < @chunk')\n",
    "    df_tt = df_west.query('year >= @chunk & year < @hasta')\n",
    "\n",
    "    xs = df_tr.as_matrix()\n",
    "    nc = len(nameCols)\n",
    "\n",
    "    f = cml(lambda x: [1] + [x[i] for i in range(nc)], xs, cleveland.query('year < @chunk')['avg'])\n",
    "    results_tr = list(map(f, df_tr.as_matrix()))\n",
    "    results_tt = list(map(f, df_tt.as_matrix()))\n",
    "\n",
    "    err = ecm(results_tt, cleveland.query('year >= @chunk & year < @hasta')['avg'])\n",
    "    total_cleveland.append(err)"
   ]
  },
  {
   "cell_type": "markdown",
   "metadata": {},
   "source": [
    "### Menos 100m"
   ]
  },
  {
   "cell_type": "code",
   "execution_count": 10,
   "metadata": {
    "collapsed": true
   },
   "outputs": [],
   "source": [
    "nameCols = ['avg ' + c for c in west_cities_less_100]\n",
    "df_west_100 = df_west[west_cities_less_100]\n",
    "\n",
    "total_cleveland_100 = []\n",
    "for chunk in range(1920, 2005):\n",
    "    hasta = chunk + 5\n",
    "    df_tr = df_west_100.query('year < @chunk')\n",
    "    df_tt = df_west_100.query('year >= @chunk & year < @hasta')\n",
    "\n",
    "    xs = df_tr.as_matrix()\n",
    "    nc = len(nameCols)\n",
    "\n",
    "    f = cml(lambda x: [1] + [x[i] for i in range(nc)], xs, cleveland.query('year < @chunk')['avg'])\n",
    "    results_tr = list(map(f, df_tr.as_matrix()))\n",
    "    results_tt = list(map(f, df_tt.as_matrix()))\n",
    "\n",
    "    err = ecm(results_tt, cleveland.query('year >= @chunk & year < @hasta')['avg'])\n",
    "    total_cleveland_100.append(err)"
   ]
  },
  {
   "cell_type": "markdown",
   "metadata": {},
   "source": [
    "### Top 5"
   ]
  },
  {
   "cell_type": "code",
   "execution_count": 11,
   "metadata": {
    "collapsed": true
   },
   "outputs": [],
   "source": [
    "nameCols = ['avg ' + c for c in west_cities_top_amp]\n",
    "df_west_top = df_west[west_cities_top_amp]\n",
    "\n",
    "total_cleveland_top = []\n",
    "for chunk in range(1920, 2005):\n",
    "    hasta = chunk + 5\n",
    "    df_tr = df_west_top.query('year < @chunk')\n",
    "    df_tt = df_west_top.query('year >= @chunk & year < @hasta')\n",
    "\n",
    "    xs = df_tr.as_matrix()\n",
    "    nc = len(nameCols)\n",
    "\n",
    "    f = cml(lambda x: [1] + [x[i] for i in range(nc)], xs, cleveland.query('year < @chunk')['avg'])\n",
    "    results_tr = list(map(f, df_tr.as_matrix()))\n",
    "    results_tt = list(map(f, df_tt.as_matrix()))\n",
    "\n",
    "    err = ecm(results_tt, cleveland.query('year >= @chunk & year < @hasta')['avg'])\n",
    "    total_cleveland_top.append(err)"
   ]
  },
  {
   "cell_type": "code",
   "execution_count": 12,
   "metadata": {},
   "outputs": [
    {
     "data": {
      "text/plain": [
       "<matplotlib.axes._subplots.AxesSubplot at 0x7f699f9d3208>"
      ]
     },
     "execution_count": 12,
     "metadata": {},
     "output_type": "execute_result"
    },
    {
     "data": {
      "image/png": "[encoded data removed]",
      "text/plain": [
       "<matplotlib.figure.Figure at 0x7f699fe86d68>"
      ]
     },
     "metadata": {},
     "output_type": "display_data"
    }
   ],
   "source": [
    "sns.distplot(total_el_paso)"
   ]
  },
  {
   "cell_type": "code",
   "execution_count": 24,
   "metadata": {},
   "outputs": [
    {
     "name": "stdout",
     "output_type": "stream",
     "text": [
      "\\begin{tabular}{lrrrll}\n",
      "\\toprule\n",
      "{} &       ECM &       max &       min &            kind &      coast \\\\\n",
      "\\midrule\n",
      "0 &  0.436834 &  2.321951 &  0.073482 &           Todas &    El Paso \\\\\n",
      "1 &  0.308172 &  0.800785 &  0.034849 &          < 100m &    El Paso \\\\\n",
      "2 &  0.273082 &  0.723342 &  0.033659 &  Top 5 amplitud &    El Paso \\\\\n",
      "3 &  0.794875 &  2.576817 &  0.036471 &           Todas &  Cleveland \\\\\n",
      "4 &  0.658131 &  2.266057 &  0.036305 &          < 100m &  Cleveland \\\\\n",
      "5 &  0.614763 &  2.123448 &  0.019107 &  Top 5 amplitud &  Cleveland \\\\\n",
      "\\bottomrule\n",
      "\\end{tabular}\n",
      "\n"
     ]
    },
    {
     "data": {
      "text/plain": [
       "<seaborn.axisgrid.FacetGrid at 0x7f699c888fd0>"
      ]
     },
     "execution_count": 24,
     "metadata": {},
     "output_type": "execute_result"
    },
    {
     "data": {
      "image/png": "[encoded data removed]",
      "text/plain": [
       "<matplotlib.figure.Figure at 0x7f699efb2eb8>"
      ]
     },
     "metadata": {},
     "output_type": "display_data"
    }
   ],
   "source": [
    "tabla = pd.DataFrame(data=[\n",
    "    [sum(total_el_paso)/len(total_el_paso), max(total_el_paso), min(total_el_paso), 'Todas', 'El Paso'],\n",
    "    [sum(total_el_paso_100)/len(total_el_paso_100), max(total_el_paso_100), min(total_el_paso_100), '< 100m', 'El Paso'],\n",
    "    [sum(total_el_paso_top)/len(total_el_paso_top), max(total_el_paso_top), min(total_el_paso_top), 'Top 5 amplitud', 'El Paso'],\n",
    "    \n",
    "    [sum(total_cleveland)/len(total_cleveland), max(total_cleveland), min(total_cleveland), 'Todas', 'Cleveland'],\n",
    "    [sum(total_cleveland_100)/len(total_cleveland_100), max(total_cleveland_100), min(total_cleveland_100), '< 100m', 'Cleveland'],\n",
    "    [sum(total_cleveland_top)/len(total_cleveland_top), max(total_cleveland_top), min(total_cleveland_top), 'Top 5 amplitud', 'Cleveland'],\n",
    "    ], columns=['ECM', 'max', 'min', 'kind', 'coast'])\n",
    "print(tabla.to_latex())\n",
    "\n",
    "count = len(total_cleveland)\n",
    "lolz = pd.DataFrame({'err': total_el_paso + total_el_paso_100 + total_el_paso_top +\n",
    "                            total_cleveland + total_cleveland_100 + total_cleveland_top,\n",
    "                     'kind': (['Todas']*count + ['Altura < 100m']*count + ['Top 5 amplitud']*count)*2,\n",
    "                     'coast': ['Coesta Este - El Paso']*count*3 + ['Coesta Oeste - Cleveland']*count*3})\n",
    "\n",
    "x = 1\n",
    "def kaka(data, color):\n",
    "    global x\n",
    "    sns.distplot(data['err'], color=palette[x])\n",
    "    x += 2\n",
    "    x %= 6\n",
    "\n",
    "g = sns.FacetGrid(data=lolz, col='kind', row='coast', margin_titles=True)\\\n",
    "    .map_dataframe(kaka)\n",
    "[plt.setp(ax.texts, text=\"\") for ax in g.axes.flat]\n",
    "g.set_titles(None, '{row_name}', '{col_name}').set_xlabels('ECM')\n",
    "#plt.savefig('img/cities_cross.png', dpi=200, bbox_inches='tight')"
   ]
  }
 ],
 "metadata": {
  "kernelspec": {
   "display_name": "Python 3",
   "language": "python",
   "name": "python3"
  },
  "language_info": {
   "codemirror_mode": {
    "name": "ipython",
    "version": 3
   },
   "file_extension": ".py",
   "mimetype": "text/x-python",
   "name": "python",
   "nbconvert_exporter": "python",
   "pygments_lexer": "ipython3",
   "version": "3.5.2"
  }
 },
 "nbformat": 4,
 "nbformat_minor": 2
}
